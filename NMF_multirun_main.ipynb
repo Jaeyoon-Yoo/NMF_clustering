{
 "cells": [
  {
   "cell_type": "code",
   "execution_count": 2,
   "metadata": {},
   "outputs": [],
   "source": [
    "import os\n",
    "import pandas as pd\n",
    "import numpy as np\n",
    "import hashlib\n",
    "import time\n",
    "import copy\n",
    "from IPython.display import clear_output\n"
   ]
  },
  {
   "cell_type": "code",
   "execution_count": 3,
   "metadata": {},
   "outputs": [],
   "source": [
    "clustering_script = [\n",
    "'#!/bin/bash',\n",
    "\n",
    "'#SBATCH -J mad_MAD_NUM_K_IN',\n",
    "'#SBATCH -p NODE_NUM',\n",
    "'#SBATCH -N 1',\n",
    "'#SBATCH -c THREAD_NUM',\n",
    "'#SBATCH -o OUTPUT_Consensus.%j.out',\n",
    "'#SBATCH -e OUTPUT_Consensus.%j.err',\n",
    "\n",
    "'python NMF_clustering.py MAD_NUM K_IN SAVE_LOC DF_NAME FILE_PRI FILTER_FILE'\n",
    "]\n"
   ]
  },
  {
   "cell_type": "code",
   "execution_count": 4,
   "metadata": {},
   "outputs": [],
   "source": [
    "Temp_loc = \"/data/Storage_DAS02/jaeyoon/230720_Muscle_Project/Code/241106_RNAseq_analysis_final/241106_NMF_results/\"\n",
    "\n",
    "ks = [i for i in range(2,11)]\n",
    "# mad_idxs = [40,30,20,10]\n",
    "mad_idxs = [40,50,60,70]"
   ]
  },
  {
   "cell_type": "code",
   "execution_count": 25,
   "metadata": {},
   "outputs": [],
   "source": [
    "!scancel {77238..77239}"
   ]
  },
  {
   "cell_type": "code",
   "execution_count": 22,
   "metadata": {},
   "outputs": [],
   "source": [
    "ks = [10]\n",
    "# mad_idxs = [40,30,20,10]\n",
    "mad_idxs = [60]"
   ]
  },
  {
   "cell_type": "code",
   "execution_count": 11,
   "metadata": {},
   "outputs": [],
   "source": [
    "import re"
   ]
  },
  {
   "cell_type": "code",
   "execution_count": 23,
   "metadata": {},
   "outputs": [
    {
     "name": "stdout",
     "output_type": "stream",
     "text": [
      "node8 10 60 64 ['Submitted batch job 90181']\n"
     ]
    }
   ],
   "source": [
    "# consensus clustering 돌리는 코드\n",
    "# DF_NAME = '241206_data_integrated_disease_mean_centering_no_combat_gene_filtered.csv'\n",
    "DF_NAME = '241206_data_integrated_normal_mean_centering_no_combat.csv'\n",
    "\n",
    "# DF_NAME = '241206_data_integrated_normal_by_disease_mean_centering_no_combat_gene_filtered.csv'\n",
    "# FILE_PRI = '241112_new_analysis_all'\n",
    "# DF_NAME = '241112_integration_re_normal_combated_filtered.csv'\n",
    "# FILE_PRI = '241209_analysis_mean_centering_disease_no_negative'\n",
    "FILE_PRI = '241217_analysis_mean_centering_normal_no_negative'\n",
    "# FILE_PRI = '241206_analysis_mean_centering_normal_by_disease'\n",
    "# DF_NAME = '241112_integration_re_disease_combated_filtered.csv'\n",
    "# FILE_PRI = '241112_new_analysis_disease_only'\n",
    "# FILE_PRI = '240927_new_table_MAD10k2_table_stage2_C2_qnormed'\n",
    "# FILTER_FILE = '240827_NMF_results/240927_MAD10k2_table_C2_qnormed.csv'\n",
    "FILTER_FILE = \"False\"\n",
    "node_past = ''\n",
    "for mad_idx in mad_idxs:\n",
    "    for k in ks:\n",
    "        while True:\n",
    "            A = !sinfo --Format=Partition,CPUsState\n",
    "            A = A[1:12]\n",
    "            B = !squeue\n",
    "            pending_list = set([\"node\"+re.findall(r'node(\\d+)',i)[0] for i in B if i.find('PD')>-1])\n",
    "            node_state = {}\n",
    "            for line in [i.split() for i in A]:\n",
    "                # if line[0] not in ['node11','node8','node9']:\n",
    "                if line[0] not in pending_list:\n",
    "                    if int(line[1].split('/')[1])>0:\n",
    "                        node_state[line[0]] = int(line[1].split('/')[1])\n",
    "            node_name = ''\n",
    "            if len(node_state)>0:\n",
    "                if mad_idx >= 40:\n",
    "                    # thread_num = 64\n",
    "                    thread_num = 64\n",
    "                else:\n",
    "                    thread_num = 32\n",
    "                    # thread_num = 24\n",
    "                    \n",
    "                for i,j in node_state.items():\n",
    "                    if j >= thread_num:\n",
    "                        if i != node_past:\n",
    "                            node_name = i\n",
    "                            node_past = i[:]\n",
    "                            break\n",
    "                if len(node_name) == 0:\n",
    "                    for i,j in node_state.items():\n",
    "                        if j >= thread_num//4*2:\n",
    "                            if i != node_past:\n",
    "                                node_name = i\n",
    "                                thread_num = j\n",
    "                                node_past = i[:]\n",
    "                                break\n",
    "            if len(node_name) != 0:\n",
    "                break\n",
    "            else:\n",
    "                node_past = ''\n",
    "                time.sleep(10)\n",
    "                \n",
    "        script = [i.replace('OUTPUT', os.path.join(Temp_loc,f'Consensus_{k}_{mad_idx}'))\n",
    "                        .replace('SAVE_LOC', Temp_loc)\n",
    "                        .replace('NODE_NUM',node_name)\n",
    "                        .replace('THREAD_NUM',str(thread_num))\n",
    "                        .replace('FILE_ID',f'Consensus_{k}_{mad_idx}')\n",
    "                        .replace('K_IN', str(k))\n",
    "                        .replace('DF_NAME', DF_NAME)\n",
    "                        .replace('FILE_PRI', FILE_PRI)\n",
    "                        .replace('MAD_NUM',str(mad_idx))\n",
    "                        .replace('FILTER_FILE',FILTER_FILE) for i in clustering_script]\n",
    "        sh_file_name = os.path.join(Temp_loc,f'Consensus_{k}_{mad_idx}.sh')\n",
    "        with open(sh_file_name,'w') as f:\n",
    "            f.write('\\n'.join(script))\n",
    "        run_info = !sbatch {sh_file_name}\n",
    "        time.sleep(5)\n",
    "        print(node_name,k,mad_idx, thread_num, run_info)"
   ]
  },
  {
   "cell_type": "code",
   "execution_count": 5,
   "metadata": {},
   "outputs": [],
   "source": [
    "!scancel {78442}"
   ]
  },
  {
   "cell_type": "code",
   "execution_count": 39,
   "metadata": {},
   "outputs": [
    {
     "data": {
      "text/plain": [
       "'240510_NMF_Combated_MAD30_k_2.pkl'"
      ]
     },
     "execution_count": 39,
     "metadata": {},
     "output_type": "execute_result"
    }
   ],
   "source": [
    "file_list = [i for i in file_list if (i.find('pkl')>-1) and (i.find('Consensus')>-1)]\n",
    "for file_name in file_list:\n",
    "    break\n",
    "file_name[file_name.find('240510'):]"
   ]
  },
  {
   "cell_type": "code",
   "execution_count": 2,
   "metadata": {},
   "outputs": [],
   "source": [
    "from matplotlib.figure import Figure\n"
   ]
  },
  {
   "cell_type": "code",
   "execution_count": 8,
   "metadata": {},
   "outputs": [
    {
     "ename": "AttributeError",
     "evalue": "'Figure' object has no attribute 'plot'",
     "output_type": "error",
     "traceback": [
      "\u001b[0;31m---------------------------------------------------------------------------\u001b[0m",
      "\u001b[0;31mAttributeError\u001b[0m                            Traceback (most recent call last)",
      "Cell \u001b[0;32mIn[8], line 2\u001b[0m\n\u001b[1;32m      1\u001b[0m fig \u001b[38;5;241m=\u001b[39m Figure((\u001b[38;5;241m6\u001b[39m,\u001b[38;5;241m6\u001b[39m), dpi \u001b[38;5;241m=\u001b[39m \u001b[38;5;241m100\u001b[39m)\n\u001b[0;32m----> 2\u001b[0m \u001b[43mfig\u001b[49m\u001b[38;5;241;43m.\u001b[39;49m\u001b[43mplot\u001b[49m()\n",
      "\u001b[0;31mAttributeError\u001b[0m: 'Figure' object has no attribute 'plot'"
     ]
    }
   ],
   "source": [
    "fig = Figure((6,6), dpi = 100)"
   ]
  },
  {
   "cell_type": "code",
   "execution_count": 6,
   "metadata": {},
   "outputs": [
    {
     "data": {
      "text/plain": [
       "6.0"
      ]
     },
     "execution_count": 6,
     "metadata": {},
     "output_type": "execute_result"
    }
   ],
   "source": []
  },
  {
   "cell_type": "code",
   "execution_count": 40,
   "metadata": {},
   "outputs": [],
   "source": [
    "file_loc = '/data/Storage_DAS02/jaeyoon/230720_Muscle_Project/Code/240409_microarray_preprocessing_yoo/240510_NMF_results/'\n",
    "file_list = os.listdir(file_loc)\n",
    "file_list = [i for i in file_list if (i.find('pkl')>-1) and (i.find('Consensus')>-1)]\n",
    "for file_name in file_list:\n",
    "    old_path = os.path.join(file_loc,file_name)\n",
    "    new_path = os.path.join(file_loc,file_name[file_name.find('240510'):])\n",
    "    os.rename(old_path, new_path)"
   ]
  },
  {
   "cell_type": "code",
   "execution_count": 29,
   "metadata": {},
   "outputs": [],
   "source": [
    "!scancel {4419}"
   ]
  },
  {
   "cell_type": "code",
   "execution_count": 14,
   "metadata": {},
   "outputs": [
    {
     "name": "stdout",
     "output_type": "stream",
     "text": [
      "node5 2 30 ['Submitted batch job 4392']\n",
      "node6 3 30 ['Submitted batch job 4393']\n",
      "node7 4 30 ['Submitted batch job 4394']\n",
      "node10 5 30 ['Submitted batch job 4395']\n",
      "node8 6 30 ['Submitted batch job 4396']\n",
      "node9 7 30 ['Submitted batch job 4397']\n",
      "node5 8 30 ['Submitted batch job 4398']\n",
      "node6 9 30 ['Submitted batch job 4399']\n",
      "node7 10 30 ['Submitted batch job 4400']\n",
      "node10 2 20 ['Submitted batch job 4401']\n",
      "node8 3 20 ['Submitted batch job 4402']\n",
      "node9 4 20 ['Submitted batch job 4403']\n",
      "node5 5 20 ['Submitted batch job 4404']\n",
      "node6 6 20 ['Submitted batch job 4405']\n",
      "node7 7 20 ['Submitted batch job 4406']\n",
      "node10 8 20 ['Submitted batch job 4407']\n",
      "node8 9 20 ['Submitted batch job 4408']\n",
      "node9 10 20 ['Submitted batch job 4409']\n",
      "node5 2 10 ['Submitted batch job 4410']\n",
      "node6 3 10 ['Submitted batch job 4411']\n",
      "node7 4 10 ['Submitted batch job 4412']\n",
      "node10 5 10 ['Submitted batch job 4413']\n",
      "node8 6 10 ['Submitted batch job 4414']\n",
      "node9 7 10 ['Submitted batch job 4415']\n",
      "node5 8 10 ['Submitted batch job 4416']\n",
      "node6 9 10 ['Submitted batch job 4417']\n",
      "node7 10 10 ['Submitted batch job 4418']\n"
     ]
    }
   ],
   "source": [
    "# node_name = node_names[n%len(node_names)]\n",
    "# k = ks[n%len(ks)]\n",
    "# mad_idx = mad_idxs[n%len(mad_idxs)]\n",
    "# thread_num = 64\n",
    "# node_name,k,mad_idx = ['node8',2,30]\n",
    "n = 0\n",
    "for mad_idx in mad_idxs:\n",
    "    for k in ks:        \n",
    "        node_name = node_names[n%len(node_names)]\n",
    "        n+= 1\n",
    "        script = [i.replace('OUTPUT', os.path.join(Temp_loc,f'Consensus_{k}_{mad_idx}'))\n",
    "                        .replace('NODE_NUM',node_name)\n",
    "                        .replace('THREAD_NUM',str(thread_num))\n",
    "                        .replace('FILE_ID',f'Consensus_{k}_{mad_idx}')\n",
    "                        .replace('K_IN', str(k))\n",
    "                        .replace('MAD_NUM',str(mad_idx)) for i in clustering_script]\n",
    "        sh_file_name = os.path.join(Temp_loc,f'Consensus_{k}_{mad_idx}.sh')\n",
    "        with open(sh_file_name,'w') as f:\n",
    "            f.write('\\n'.join(script))\n",
    "        run_info = !sbatch {sh_file_name}\n",
    "        print(node_name,k,mad_idx, run_info)"
   ]
  },
  {
   "cell_type": "markdown",
   "metadata": {},
   "source": []
  },
  {
   "cell_type": "code",
   "execution_count": 55,
   "metadata": {},
   "outputs": [
    {
     "data": {
      "text/plain": [
       "['240418_consensus_clustering_all_MAD10_k_4.pkl',\n",
       " '240418_consensus_clustering_all_MAD10_k_2.pkl',\n",
       " '240418_consensus_clustering_all_MAD10_k_5.pkl',\n",
       " '240418_consensus_clustering_all_MAD10_k_3.pkl']"
      ]
     },
     "execution_count": 55,
     "metadata": {},
     "output_type": "execute_result"
    }
   ],
   "source": [
    "file_list = os.listdir(Temp_loc)\n",
    "[i for i in file_list if i.find('err')>-1]\n",
    "[i for i in file_list if i.find('pkl')>-1 and i.find('all')>-1]"
   ]
  },
  {
   "cell_type": "code",
   "execution_count": 342,
   "metadata": {},
   "outputs": [
    {
     "data": {
      "text/html": [
       "<div>\n",
       "<style scoped>\n",
       "    .dataframe tbody tr th:only-of-type {\n",
       "        vertical-align: middle;\n",
       "    }\n",
       "\n",
       "    .dataframe tbody tr th {\n",
       "        vertical-align: top;\n",
       "    }\n",
       "\n",
       "    .dataframe thead th {\n",
       "        text-align: right;\n",
       "    }\n",
       "</style>\n",
       "<table border=\"1\" class=\"dataframe\">\n",
       "  <thead>\n",
       "    <tr style=\"text-align: right;\">\n",
       "      <th>1</th>\n",
       "      <th>10</th>\n",
       "      <th>20</th>\n",
       "      <th>30</th>\n",
       "    </tr>\n",
       "    <tr>\n",
       "      <th>0</th>\n",
       "      <th></th>\n",
       "      <th></th>\n",
       "      <th></th>\n",
       "    </tr>\n",
       "  </thead>\n",
       "  <tbody>\n",
       "    <tr>\n",
       "      <th>10</th>\n",
       "      <td>2</td>\n",
       "      <td>1</td>\n",
       "      <td>1</td>\n",
       "    </tr>\n",
       "    <tr>\n",
       "      <th>2</th>\n",
       "      <td>1</td>\n",
       "      <td>1</td>\n",
       "      <td>1</td>\n",
       "    </tr>\n",
       "    <tr>\n",
       "      <th>3</th>\n",
       "      <td>1</td>\n",
       "      <td>1</td>\n",
       "      <td>1</td>\n",
       "    </tr>\n",
       "    <tr>\n",
       "      <th>4</th>\n",
       "      <td>1</td>\n",
       "      <td>1</td>\n",
       "      <td>1</td>\n",
       "    </tr>\n",
       "    <tr>\n",
       "      <th>5</th>\n",
       "      <td>1</td>\n",
       "      <td>1</td>\n",
       "      <td>1</td>\n",
       "    </tr>\n",
       "    <tr>\n",
       "      <th>6</th>\n",
       "      <td>1</td>\n",
       "      <td>1</td>\n",
       "      <td>1</td>\n",
       "    </tr>\n",
       "    <tr>\n",
       "      <th>7</th>\n",
       "      <td>1</td>\n",
       "      <td>1</td>\n",
       "      <td>1</td>\n",
       "    </tr>\n",
       "    <tr>\n",
       "      <th>8</th>\n",
       "      <td>2</td>\n",
       "      <td>1</td>\n",
       "      <td>1</td>\n",
       "    </tr>\n",
       "    <tr>\n",
       "      <th>9</th>\n",
       "      <td>2</td>\n",
       "      <td>1</td>\n",
       "      <td>1</td>\n",
       "    </tr>\n",
       "  </tbody>\n",
       "</table>\n",
       "</div>"
      ],
      "text/plain": [
       "1   10  20  30\n",
       "0             \n",
       "10   2   1   1\n",
       "2    1   1   1\n",
       "3    1   1   1\n",
       "4    1   1   1\n",
       "5    1   1   1\n",
       "6    1   1   1\n",
       "7    1   1   1\n",
       "8    2   1   1\n",
       "9    2   1   1"
      ]
     },
     "execution_count": 342,
     "metadata": {},
     "output_type": "execute_result"
    }
   ],
   "source": [
    "file_list = os.listdir(Temp_loc)\n",
    "files = [i.split('_')[1:3]+[1]+[i] for i in file_list if (i.find('err')>-1)]\n",
    "pd.DataFrame([i for i in files if (int(i[-1].split('.')[-2])>3690)]).pivot_table(values = 2, columns=1, index = 0, aggfunc='count')\n"
   ]
  },
  {
   "cell_type": "code",
   "execution_count": 343,
   "metadata": {},
   "outputs": [
    {
     "data": {
      "text/html": [
       "<div>\n",
       "<style scoped>\n",
       "    .dataframe tbody tr th:only-of-type {\n",
       "        vertical-align: middle;\n",
       "    }\n",
       "\n",
       "    .dataframe tbody tr th {\n",
       "        vertical-align: top;\n",
       "    }\n",
       "\n",
       "    .dataframe thead th {\n",
       "        text-align: right;\n",
       "    }\n",
       "</style>\n",
       "<table border=\"1\" class=\"dataframe\">\n",
       "  <thead>\n",
       "    <tr style=\"text-align: right;\">\n",
       "      <th>2</th>\n",
       "      <th>10</th>\n",
       "      <th>2</th>\n",
       "      <th>3</th>\n",
       "      <th>4</th>\n",
       "      <th>5</th>\n",
       "      <th>6</th>\n",
       "      <th>7</th>\n",
       "      <th>8</th>\n",
       "      <th>9</th>\n",
       "    </tr>\n",
       "    <tr>\n",
       "      <th>0</th>\n",
       "      <th></th>\n",
       "      <th></th>\n",
       "      <th></th>\n",
       "      <th></th>\n",
       "      <th></th>\n",
       "      <th></th>\n",
       "      <th></th>\n",
       "      <th></th>\n",
       "      <th></th>\n",
       "    </tr>\n",
       "  </thead>\n",
       "  <tbody>\n",
       "    <tr>\n",
       "      <th>MAD10</th>\n",
       "      <td>5</td>\n",
       "      <td>5</td>\n",
       "      <td>5</td>\n",
       "      <td>5</td>\n",
       "      <td>5</td>\n",
       "      <td>5</td>\n",
       "      <td>5</td>\n",
       "      <td>5</td>\n",
       "      <td>5</td>\n",
       "    </tr>\n",
       "    <tr>\n",
       "      <th>MAD20</th>\n",
       "      <td>5</td>\n",
       "      <td>5</td>\n",
       "      <td>5</td>\n",
       "      <td>5</td>\n",
       "      <td>5</td>\n",
       "      <td>5</td>\n",
       "      <td>5</td>\n",
       "      <td>5</td>\n",
       "      <td>5</td>\n",
       "    </tr>\n",
       "    <tr>\n",
       "      <th>MAD30</th>\n",
       "      <td>5</td>\n",
       "      <td>5</td>\n",
       "      <td>5</td>\n",
       "      <td>5</td>\n",
       "      <td>5</td>\n",
       "      <td>5</td>\n",
       "      <td>5</td>\n",
       "      <td>5</td>\n",
       "      <td>5</td>\n",
       "    </tr>\n",
       "  </tbody>\n",
       "</table>\n",
       "</div>"
      ],
      "text/plain": [
       "2      10  2  3  4  5  6  7  8  9\n",
       "0                                \n",
       "MAD10   5  5  5  5  5  5  5  5  5\n",
       "MAD20   5  5  5  5  5  5  5  5  5\n",
       "MAD30   5  5  5  5  5  5  5  5  5"
      ]
     },
     "execution_count": 343,
     "metadata": {},
     "output_type": "execute_result"
    }
   ],
   "source": [
    "file_list = os.listdir(Temp_loc)\n",
    "pd.DataFrame([i.replace('.pkl','').split('_')[-3:]+[1] for i in file_list if i.find('pkl')>-1 and i.find('all')>-1]).pivot_table(values = 3, columns=2, index = 0, aggfunc='count')\n"
   ]
  },
  {
   "cell_type": "code",
   "execution_count": null,
   "metadata": {},
   "outputs": [],
   "source": []
  }
 ],
 "metadata": {
  "kernelspec": {
   "display_name": "Env_yoo_02_RNAseq",
   "language": "python",
   "name": "python3"
  },
  "language_info": {
   "codemirror_mode": {
    "name": "ipython",
    "version": 3
   },
   "file_extension": ".py",
   "mimetype": "text/x-python",
   "name": "python",
   "nbconvert_exporter": "python",
   "pygments_lexer": "ipython3",
   "version": "3.8.1"
  }
 },
 "nbformat": 4,
 "nbformat_minor": 2
}
